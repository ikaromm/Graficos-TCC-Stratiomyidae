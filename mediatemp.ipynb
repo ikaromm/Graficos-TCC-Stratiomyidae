{
 "cells": [
  {
   "cell_type": "code",
   "execution_count": 1,
   "metadata": {},
   "outputs": [
    {
     "data": {
      "text/plain": [
       "<Figure size 640x480 with 0 Axes>"
      ]
     },
     "execution_count": 1,
     "metadata": {},
     "output_type": "execute_result"
    },
    {
     "data": {
      "text/plain": [
       "<Figure size 640x480 with 0 Axes>"
      ]
     },
     "metadata": {},
     "output_type": "display_data"
    }
   ],
   "source": [
    "import pandas as pd \n",
    "import matplotlib as plt\n",
    "import matplotlib.pyplot as plt\n",
    "import numpy as np\n",
    "\n",
    "plt.figure()"
   ]
  },
  {
   "cell_type": "code",
   "execution_count": 2,
   "metadata": {},
   "outputs": [
    {
     "name": "stdout",
     "output_type": "stream",
     "text": [
      "dia 29 de junho de 2022 ate dia 02 agosto de 2022, temperatura média: 21.61 0.0 49.42\n",
      "dia 02 de agosto de 2022 ate dia 08 setembro de 2022, temperatura média: 23.96 0.0 38.84\n",
      "08 de setembro de 2022 ate 05 de outubro de 2022 , temperatura média: 26.07 0.07 51.32\n",
      "dia 05 de outrubro de 2022 ate 09 de novembro de 2022 , temperatura média: 24.91 0.13 59.04\n",
      "12 de dezembro de 2022 ate 18 de janeiro de 2023, temperatura média: 23.31 0.49 78.35\n",
      "18 de janeiro de 2023 ate 16 de fervereiro de 2023 , temperatura média: 24.0 0.49 75.0\n",
      "16 de fervereiro de 2023 ate 21 de marco de 2023  , temperatura média: 23.97 0.24 75.1\n"
     ]
    }
   ],
   "source": [
    "df = pd.read_csv(\"excel/tabelatemp.csv\", sep = \";\")\n",
    "df2 = pd.read_csv(\"excel/tabelatemp2023.csv\", sep = \";\")\n",
    "\n",
    "df.fillna(0, inplace = True)\n",
    "df2.fillna(0, inplace = True)\n",
    "\n",
    "df = pd.concat([df, df2])\n",
    "\n",
    "df[\"Data\"] = pd.to_datetime(df[\"Data\"],format=\"%d/%m/%Y\")\n",
    "df['temperatura'] = df['temperatura'].str.replace(',', '.', regex=True).astype(float)\n",
    "df['preciptacao'] = df['preciptacao'].str.replace(',', '.', regex=True).astype(float)\n",
    "\n",
    "# mask = df[\"Data\"] >= '29-06-2022' & df[\"Data\"] <= '02-08-2022':\n",
    "mask = (df[\"Data\"] >= \"2022-06-29\") & (df[\"Data\"] <= \"2022-08-02\")\n",
    "print(\"dia 29 de junho de 2022 ate dia 02 agosto de 2022, temperatura média:\" , round(df.loc[mask][\"temperatura\"].mean(),2), round(df.loc[mask][\"preciptacao\"].mean(),2), round(df.loc[mask][\"humidade\"].mean(),2))\n",
    "mask = (df[\"Data\"] >= \"2022-08-02\") & (df[\"Data\"] <= \"2022-09-08\")\n",
    "print(\"dia 02 de agosto de 2022 ate dia 08 setembro de 2022, temperatura média:\" , round(df.loc[mask][\"temperatura\"].mean(),2), round(df.loc[mask][\"preciptacao\"].mean(),2), round(df.loc[mask][\"humidade\"].mean(),2))\n",
    "mask = (df[\"Data\"] >= \"2022-09-08\") & (df[\"Data\"] <= \"2022-10-05\")\n",
    "print(\"08 de setembro de 2022 ate 05 de outubro de 2022 , temperatura média:\" , round(df.loc[mask][\"temperatura\"].mean(),2), round(df.loc[mask][\"preciptacao\"].mean(),2), round(df.loc[mask][\"humidade\"].mean(),2))\n",
    "mask = (df[\"Data\"] >= \"2022-10-05\") & (df[\"Data\"] <= \"2022-11-09\")\n",
    "print(\"dia 05 de outrubro de 2022 ate 09 de novembro de 2022 , temperatura média:\" , round(df.loc[mask][\"temperatura\"].mean(),2), round(df.loc[mask][\"preciptacao\"].mean(),2), round(df.loc[mask][\"humidade\"].mean(),2))\n",
    "mask = (df[\"Data\"] >= \"2022-12-12\") & (df[\"Data\"] <= \"2023-01-18\")\n",
    "print(\"12 de dezembro de 2022 ate 18 de janeiro de 2023, temperatura média:\" , round(df.loc[mask][\"temperatura\"].mean(),2), round(df.loc[mask][\"preciptacao\"].mean(),2), round(df.loc[mask][\"humidade\"].mean(),2))\n",
    "mask = (df[\"Data\"] >= \"2023-01-18\") & (df[\"Data\"] <= \"2023-02-16\")\n",
    "print(\"18 de janeiro de 2023 ate 16 de fervereiro de 2023 , temperatura média:\" , round(df.loc[mask][\"temperatura\"].mean(),2), round(df.loc[mask][\"preciptacao\"].mean(),2), round(df.loc[mask][\"humidade\"].mean(),2))\n",
    "mask = (df[\"Data\"] >= \"2023-02-16\") & (df[\"Data\"] <= \"2023-03-21\")\n",
    "print(\"16 de fervereiro de 2023 ate 21 de marco de 2023  , temperatura média:\" , round(df.loc[mask][\"temperatura\"].mean(),2), round(df.loc[mask][\"preciptacao\"].mean(),2), round(df.loc[mask][\"humidade\"].mean(),2))\n",
    "\n",
    "    "
   ]
  }
 ],
 "metadata": {
  "kernelspec": {
   "display_name": "Python 3 (ipykernel)",
   "language": "python",
   "name": "python3"
  },
  "language_info": {
   "codemirror_mode": {
    "name": "ipython",
    "version": 3
   },
   "file_extension": ".py",
   "mimetype": "text/x-python",
   "name": "python",
   "nbconvert_exporter": "python",
   "pygments_lexer": "ipython3",
   "version": "3.11.5"
  }
 },
 "nbformat": 4,
 "nbformat_minor": 2
}
